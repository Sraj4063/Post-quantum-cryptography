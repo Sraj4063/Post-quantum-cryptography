{
 "cells": [
  {
   "cell_type": "code",
   "execution_count": 1,
   "id": "4fad65a9-dacc-4ead-bf8c-5f537ba06368",
   "metadata": {},
   "outputs": [
    {
     "name": "stdout",
     "output_type": "stream",
     "text": [
      "len of private key = 2\n",
      "True\n"
     ]
    }
   ],
   "source": [
    "import hashlib\n",
    "import secrets\n",
    "#hashlib - common interface to many different secure hash and message digest algorithms\n",
    "#secrets - The secrets module is used for generating cryptographically strong random numbers  suitable for managing data such as passwords, account authentication, security tokens,\n",
    "# and related secrets.\n",
    "#creation of keys\n",
    "def PrivateAndPublicKey():\n",
    "    #Creating secret key\n",
    "    skey = [[0]*255, [1]*255]\n",
    "    #print(\"skey = \", skey)\n",
    "    print(\"len of private key =\",len(skey))\n",
    "    for i in range(len(skey)):\n",
    "        for j in range(len(skey[i])):\n",
    "            skey[i][j] = bin(secrets.randbits(255))[2:] #bin - convert the int to binary . randbits - Return an int with k random bits. # [2:] removing \"0b\" prefix\n",
    "            skey[i][j] = '0'*(255-len(skey[i][j])) + skey[i][j]\n",
    "        #print(skey[i][j], end = ' ')\n",
    " \n",
    "    #print(\"private key = \",skey)\n",
    "\n",
    "    #creating public key\n",
    "    pkey = [[0]*255, [1]*255]\n",
    "    for i in range(len(pkey)):\n",
    "        for j in range(len(pkey[i])):\n",
    "            pkey[i][j] = bin(int(hashlib.sha256(skey[i][j].encode()).hexdigest(), 16)) #TypeError:  Unicode-objects must be encoded before hashing, if encode is skipped , \n",
    " \n",
    "    pair = [skey, pkey]\n",
    "    #print(\"keypair = private and public\", pair)\n",
    "    return pair\n",
    "    \n",
    "#signature generation of the message\n",
    "def GenerateSignature(message, skey):\n",
    "    mhash = int(hashlib.sha256(message.encode()).hexdigest(), 16) # Alice hashes her message  using a 256-bit cryptographic hash function,\n",
    "    #print(\"mhash = \", mhash)\n",
    "    #print(\"mhash in binary = \", bin(mhash))\n",
    "    #print(\"len of mhash = \",len(str(mhash)))\n",
    "    signature = [0]*255\n",
    "    for i in range(255):\n",
    "        k = int(bin(mhash >> i & 1)[2:]) # right shift operator to take out the right most element and then we are doing the bitwise and \n",
    "        signature[i] = skey[k][i] # if the first bit of the message hash is 0, he picks the first hash  in the first pair, and so on.\n",
    "    #print(\"printing mhash again = \", mhash)\n",
    "    #print(\"signatures = \",signature)\n",
    "    return signature\n",
    "\n",
    "# Verification of signature\n",
    "def verification(message, pkey, signature):\n",
    "    mhash = int(hashlib.sha256(message.encode()).hexdigest(), 16)\n",
    "    for i in range(255):\n",
    "        k = int(bin(mhash >> i & 1)[2:] )\n",
    "        verify = bin(int(hashlib.sha256(str(signature[i]).encode()).hexdigest(), 16))\n",
    "        if pkey[k][i] != verify:\n",
    "            return False\n",
    "    return True\n",
    "pair = PrivateAndPublicKey()\n",
    "message = \"1010.\"\n",
    "signature = GenerateSignature(message, pair[0])\n",
    "print(verification(message, pair[1], signature))"
   ]
  },
  {
   "cell_type": "markdown",
   "id": "e670389b-23c9-4784-9f6f-8cbf3d41d37a",
   "metadata": {},
   "source": [
    "In cryptography, a Lamport signature or Lamport one-time signature scheme is a method for constructing a digital signature.Lamport signatures can be built from any cryptographically secure one-way function; usually a cryptographic hash function is used.\n",
    "\n",
    "Although the potential development of quantum computers threatens the security of many common forms of cryptography such as RSA, it is believed that Lamport signatures with large hash functions would still be secure in that event. Unfortunately, each Lamport key can only be used to sign a single message. However, combined with hash trees, a single key could be used for many messages, making this a fairly efficient digital signature scheme.\n",
    "\n",
    "Here I have implemented the Lamport Signature scheme in python using SHA256 hash function. Libraries used:\n",
    "\n",
    "Hashlib\n",
    "Secrets"
   ]
  },
  {
   "cell_type": "code",
   "execution_count": null,
   "id": "03786399-9dfc-475f-8552-ea9241e0f2ed",
   "metadata": {},
   "outputs": [],
   "source": []
  }
 ],
 "metadata": {
  "kernelspec": {
   "display_name": "Python 3 (ipykernel)",
   "language": "python",
   "name": "python3"
  },
  "language_info": {
   "codemirror_mode": {
    "name": "ipython",
    "version": 3
   },
   "file_extension": ".py",
   "mimetype": "text/x-python",
   "name": "python",
   "nbconvert_exporter": "python",
   "pygments_lexer": "ipython3",
   "version": "3.8.13"
  },
  "widgets": {
   "application/vnd.jupyter.widget-state+json": {
    "state": {},
    "version_major": 2,
    "version_minor": 0
   }
  }
 },
 "nbformat": 4,
 "nbformat_minor": 5
}
